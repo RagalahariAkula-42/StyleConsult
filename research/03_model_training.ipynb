{
 "cells": [
  {
   "cell_type": "code",
   "execution_count": 1,
   "metadata": {},
   "outputs": [],
   "source": [
    "import os"
   ]
  },
  {
   "cell_type": "code",
   "execution_count": 2,
   "metadata": {},
   "outputs": [
    {
     "data": {
      "text/plain": [
       "'d:\\\\StyleConsult\\\\research'"
      ]
     },
     "execution_count": 2,
     "metadata": {},
     "output_type": "execute_result"
    }
   ],
   "source": [
    "%pwd"
   ]
  },
  {
   "cell_type": "code",
   "execution_count": 3,
   "metadata": {},
   "outputs": [],
   "source": [
    "os.chdir(\"../\")"
   ]
  },
  {
   "cell_type": "code",
   "execution_count": 4,
   "metadata": {},
   "outputs": [
    {
     "data": {
      "text/plain": [
       "'d:\\\\StyleConsult'"
      ]
     },
     "execution_count": 4,
     "metadata": {},
     "output_type": "execute_result"
    }
   ],
   "source": [
    "%pwd"
   ]
  },
  {
   "cell_type": "code",
   "execution_count": 5,
   "metadata": {},
   "outputs": [],
   "source": [
    "from dataclasses import dataclass\n",
    "from pathlib import Path\n",
    "\n",
    "\n",
    "@dataclass(frozen=True)\n",
    "class TrainingConfig:\n",
    "    root_dir: Path\n",
    "    trained_model_path: Path\n",
    "    trained_model_path_in_use: Path\n",
    "    base_model_path: Path\n",
    "    training_data: Path\n",
    "    validation_data: Path\n",
    "    params_steps_per_epoch:int\n",
    "    params_validation_steps:int\n",
    "    params_epochs: int\n",
    "    params_batch_size: int\n",
    "    params_image_size: list"
   ]
  },
  {
   "cell_type": "code",
   "execution_count": 6,
   "metadata": {},
   "outputs": [],
   "source": [
    "from gender_classifier.constants import *\n",
    "from gender_classifier.utils.common import read_yaml, create_directories\n",
    "import tensorflow as tf"
   ]
  },
  {
   "cell_type": "code",
   "execution_count": 8,
   "metadata": {},
   "outputs": [],
   "source": [
    "class ConfigurationManager:\n",
    "    def __init__(\n",
    "        self,\n",
    "        config_filepath=CONFIG_FILE_PATH,\n",
    "        params_filepath=PARAMS_FILE_PATH):\n",
    "\n",
    "        self.config = read_yaml(config_filepath)\n",
    "        self.params = read_yaml(params_filepath)\n",
    "\n",
    "        create_directories([self.config.artifacts_root])\n",
    "\n",
    "    def get_training_config(self) -> TrainingConfig:\n",
    "        training = self.config.training\n",
    "        prepare_base_model = self.config.prepare_base_model\n",
    "        params = self.params\n",
    "        training_data = os.path.join(self.config.data_ingestion.unzip_dir, \"Training\")\n",
    "        validation_data = os.path.join(self.config.data_ingestion.unzip_dir, \"Validation\")\n",
    "\n",
    "        create_directories([\n",
    "            Path(training.root_dir)\n",
    "        ])\n",
    "\n",
    "        training_config = TrainingConfig(\n",
    "            root_dir=Path(training.root_dir),\n",
    "            trained_model_path=Path(training.trained_model_path),\n",
    "            trained_model_path_in_use=Path(training.trained_model_path_in_use),\n",
    "            base_model_path=Path(prepare_base_model.base_model_path),\n",
    "            training_data=Path(training_data),\n",
    "            validation_data=Path(validation_data),\n",
    "            params_epochs=params.epochs,\n",
    "            params_steps_per_epoch=params.steps_per_epoch,\n",
    "            params_validation_steps=params.validation_steps,\n",
    "            params_batch_size=params.BATCH_SIZE,\n",
    "            params_image_size=params.im_shape\n",
    "        )\n",
    "\n",
    "        return training_config"
   ]
  },
  {
   "cell_type": "code",
   "execution_count": 9,
   "metadata": {},
   "outputs": [],
   "source": [
    "import os\n",
    "import urllib.request as request\n",
    "from zipfile import ZipFile\n",
    "import tensorflow as tf\n",
    "import time"
   ]
  },
  {
   "cell_type": "code",
   "execution_count": 10,
   "metadata": {},
   "outputs": [],
   "source": [
    "class Training:\n",
    "    def __init__(self, config: TrainingConfig):\n",
    "        self.config = config\n",
    "\n",
    "    def get_base_model(self):\n",
    "        self.model = tf.keras.models.load_model(\n",
    "            self.config.base_model_path\n",
    "        )\n",
    "\n",
    "    def train_valid_generator(self):\n",
    "        datagenerator_kwargs = dict(\n",
    "            rescale=1./255,\n",
    "            rotation_range=30,\n",
    "            shear_range=0.3,\n",
    "            zoom_range=0.3\n",
    "        )\n",
    "\n",
    "        dataflow_kwargs = dict(\n",
    "            target_size=self.config.params_image_size,\n",
    "            batch_size=self.config.params_batch_size\n",
    "        )\n",
    "\n",
    "        train_datagenerator = tf.keras.preprocessing.image.ImageDataGenerator(\n",
    "            **datagenerator_kwargs\n",
    "        )\n",
    "\n",
    "        valid_datagenerator = tf.keras.preprocessing.image.ImageDataGenerator(\n",
    "            **datagenerator_kwargs\n",
    "        )\n",
    "\n",
    "        self.valid_generator = valid_datagenerator.flow_from_directory(\n",
    "            directory=self.config.training_data,\n",
    "            class_mode='binary',\n",
    "            **dataflow_kwargs\n",
    "        )\n",
    "\n",
    "        self.train_generator =  train_datagenerator.flow_from_directory(\n",
    "            directory=self.config.validation_data,\n",
    "            class_mode='binary',\n",
    "            **dataflow_kwargs\n",
    "        )\n",
    "\n",
    "    @staticmethod\n",
    "    def save_model(path: Path, model: tf.keras.Model):\n",
    "        model.save(str(path)) \n",
    "\n",
    "    def train(self):\n",
    "        \n",
    "        self.model.fit(\n",
    "            self.train_generator,\n",
    "            steps_per_epoch=self.config.params_steps_per_epoch,\n",
    "            epochs=self.config.params_epochs,\n",
    "            validation_data=self.valid_generator,\n",
    "            validation_steps=self.config.params_validation_steps\n",
    "        )\n",
    "\n",
    "        self.config.trained_model_path.parent.mkdir(parents=True, exist_ok=True)\n",
    "\n",
    "        self.save_model(self.config.trained_model_path, self.model)\n",
    "        self.save_model(self.config.trained_model_path_in_use, self.model)"
   ]
  },
  {
   "cell_type": "code",
   "execution_count": 11,
   "metadata": {},
   "outputs": [
    {
     "name": "stdout",
     "output_type": "stream",
     "text": [
      "[2024-05-23 02:06:15,376: INFO: common: yaml file: config\\config.yaml loaded successfully]\n",
      "[2024-05-23 02:06:15,378: INFO: common: yaml file: params.yaml loaded successfully]\n",
      "[2024-05-23 02:06:15,379: INFO: common: created directory at: artifacts]\n",
      "[2024-05-23 02:06:15,380: INFO: common: created directory at: artifacts\\training]\n",
      "Found 47009 images belonging to 2 classes.\n",
      "Found 11649 images belonging to 2 classes.\n",
      "Epoch 1/5\n",
      "70/70 [==============================] - 165s 2s/step - loss: 0.7135 - acc: 0.5232 - val_loss: 0.6896 - val_acc: 0.5567\n",
      "Epoch 2/5\n",
      "70/70 [==============================] - 155s 2s/step - loss: 0.6776 - acc: 0.6089 - val_loss: 0.5624 - val_acc: 0.7325\n",
      "Epoch 3/5\n",
      "70/70 [==============================] - 149s 2s/step - loss: 0.5876 - acc: 0.7063 - val_loss: 0.5185 - val_acc: 0.7575\n",
      "Epoch 4/5\n",
      "70/70 [==============================] - 156s 2s/step - loss: 0.5272 - acc: 0.7560 - val_loss: 0.4703 - val_acc: 0.7871\n",
      "Epoch 5/5\n",
      "70/70 [==============================] - 173s 2s/step - loss: 0.4847 - acc: 0.7756 - val_loss: 0.4188 - val_acc: 0.8271\n"
     ]
    }
   ],
   "source": [
    "try:\n",
    "    config = ConfigurationManager()\n",
    "    training_config = config.get_training_config()\n",
    "    training = Training(config=training_config)\n",
    "    training.get_base_model()\n",
    "    training.train_valid_generator()\n",
    "    training.train()\n",
    "\n",
    "except Exception as e:\n",
    "    raise e"
   ]
  },
  {
   "cell_type": "code",
   "execution_count": null,
   "metadata": {},
   "outputs": [],
   "source": []
  }
 ],
 "metadata": {
  "kernelspec": {
   "display_name": "faceshape",
   "language": "python",
   "name": "python3"
  },
  "language_info": {
   "codemirror_mode": {
    "name": "ipython",
    "version": 3
   },
   "file_extension": ".py",
   "mimetype": "text/x-python",
   "name": "python",
   "nbconvert_exporter": "python",
   "pygments_lexer": "ipython3",
   "version": "3.11.9"
  }
 },
 "nbformat": 4,
 "nbformat_minor": 2
}
